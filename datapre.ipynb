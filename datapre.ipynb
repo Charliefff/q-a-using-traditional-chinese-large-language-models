{
 "cells": [
  {
   "cell_type": "code",
   "execution_count": 1,
   "metadata": {},
   "outputs": [],
   "source": [
    "import pandas as pd\n",
    "import json\n",
    "df = pd.read_excel(\"AI.xlsx\",header=None)\n",
    "data = df.iloc[:,1:8].values\n",
    "instruction,input,output=[],[],[]\n",
    "for i in range(1,len(data)):\n",
    "    instruction.append(\"Answer the given multiple choice question.\") \n",
    "    input.append(data[i][0]+\"\\n\\n問題:\"+str(data[i][1])+\"\\n1. \"+ str(data[i][2])+\"\\n2. \"+str(data[i][3])+\"\\n3. \"+str(data[i][4])+\"\\n4. \"+str(data[i][5]))\n",
    "    output.append(str(data[i][6])) \n",
    "new_data = []\n",
    "for i in range(len(instruction)):\n",
    "     item = { 'instruction': instruction[i], 'input': input[i], 'output': output[i] }\n",
    "     new_data.append(item)    \n",
    "with open('data.json', 'w') as f:\n",
    "    json.dump(new_data, f, indent=4,ensure_ascii=False)\n",
    "\n",
    "\n",
    "\n",
    "    \n"
   ]
  },
  {
   "cell_type": "code",
   "execution_count": 6,
   "metadata": {},
   "outputs": [],
   "source": [
    "df = pd.read_excel(\"AI1000.xlsx\",header=None)\n",
    "data = df.iloc[:,0:7].values\n",
    "instruction,input, id=[],[],[]\n",
    "for i in range(1,len(data)):\n",
    "    id.append(data[i][0])\n",
    "    instruction.append(\"Answer the given multiple choice question.\")\n",
    "    input.append(data[i][1]+\"\\n\\n問題:\"+str(data[i][2])+\"\\n1. \"+ str(data[i][3])+\"\\n2. \"+str(data[i][4])+\"\\n3. \"+str(data[i][5])+\"\\n4. \"+str(data[i][6])) \n",
    "new_data = []\n",
    "for i in range(len(instruction)):\n",
    "     item = { 'id':id[i], 'instruction': instruction[i], 'input': input[i]}\n",
    "     new_data.append(item)    \n",
    "with open('answer.json', 'w') as f:\n",
    "    json.dump(new_data, f, indent=4,ensure_ascii=False)\n"
   ]
  }
 ],
 "metadata": {
  "kernelspec": {
   "display_name": "llama",
   "language": "python",
   "name": "python3"
  },
  "language_info": {
   "codemirror_mode": {
    "name": "ipython",
    "version": 3
   },
   "file_extension": ".py",
   "mimetype": "text/x-python",
   "name": "python",
   "nbconvert_exporter": "python",
   "pygments_lexer": "ipython3",
   "version": "3.9.2"
  },
  "orig_nbformat": 4
 },
 "nbformat": 4,
 "nbformat_minor": 2
}
